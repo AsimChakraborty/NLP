{
  "nbformat": 4,
  "nbformat_minor": 0,
  "metadata": {
    "colab": {
      "provenance": []
    },
    "kernelspec": {
      "name": "python3",
      "display_name": "Python 3"
    },
    "language_info": {
      "name": "python"
    },
    "accelerator": "GPU",
    "gpuClass": "standard"
  },
  "cells": [
    {
      "cell_type": "code",
      "execution_count": 41,
      "metadata": {
        "id": "kZ0ZAe7Ev88v"
      },
      "outputs": [],
      "source": [
        "import tensorflow as tf\n",
        "from tensorflow.keras.preprocessing.text import Tokenizer\n",
        "from tensorflow.keras.layers import Embedding,LSTM,Dense\n",
        "from tensorflow.keras.models import Sequential\n",
        "from tensorflow.keras.utils import to_categorical\n",
        "from tensorflow.keras.optimizers import Adam\n",
        "import pickle\n",
        "import numpy as np\n",
        "import os\n",
        "import heapq\n",
        "import matplotlib.pyplot as plt\n"
      ]
    },
    {
      "cell_type": "code",
      "source": [
        "from google.colab import files\n",
        "upload=files.upload()"
      ],
      "metadata": {
        "colab": {
          "base_uri": "https://localhost:8080/",
          "height": 73
        },
        "id": "j4krqg9NxJHk",
        "outputId": "57e1f248-ab28-4e53-b362-3241f7541ffd"
      },
      "execution_count": 42,
      "outputs": [
        {
          "output_type": "display_data",
          "data": {
            "text/plain": [
              "<IPython.core.display.HTML object>"
            ],
            "text/html": [
              "\n",
              "     <input type=\"file\" id=\"files-80987d98-b267-4434-b3a0-f22a3549cd30\" name=\"files[]\" multiple disabled\n",
              "        style=\"border:none\" />\n",
              "     <output id=\"result-80987d98-b267-4434-b3a0-f22a3549cd30\">\n",
              "      Upload widget is only available when the cell has been executed in the\n",
              "      current browser session. Please rerun this cell to enable.\n",
              "      </output>\n",
              "      <script>// Copyright 2017 Google LLC\n",
              "//\n",
              "// Licensed under the Apache License, Version 2.0 (the \"License\");\n",
              "// you may not use this file except in compliance with the License.\n",
              "// You may obtain a copy of the License at\n",
              "//\n",
              "//      http://www.apache.org/licenses/LICENSE-2.0\n",
              "//\n",
              "// Unless required by applicable law or agreed to in writing, software\n",
              "// distributed under the License is distributed on an \"AS IS\" BASIS,\n",
              "// WITHOUT WARRANTIES OR CONDITIONS OF ANY KIND, either express or implied.\n",
              "// See the License for the specific language governing permissions and\n",
              "// limitations under the License.\n",
              "\n",
              "/**\n",
              " * @fileoverview Helpers for google.colab Python module.\n",
              " */\n",
              "(function(scope) {\n",
              "function span(text, styleAttributes = {}) {\n",
              "  const element = document.createElement('span');\n",
              "  element.textContent = text;\n",
              "  for (const key of Object.keys(styleAttributes)) {\n",
              "    element.style[key] = styleAttributes[key];\n",
              "  }\n",
              "  return element;\n",
              "}\n",
              "\n",
              "// Max number of bytes which will be uploaded at a time.\n",
              "const MAX_PAYLOAD_SIZE = 100 * 1024;\n",
              "\n",
              "function _uploadFiles(inputId, outputId) {\n",
              "  const steps = uploadFilesStep(inputId, outputId);\n",
              "  const outputElement = document.getElementById(outputId);\n",
              "  // Cache steps on the outputElement to make it available for the next call\n",
              "  // to uploadFilesContinue from Python.\n",
              "  outputElement.steps = steps;\n",
              "\n",
              "  return _uploadFilesContinue(outputId);\n",
              "}\n",
              "\n",
              "// This is roughly an async generator (not supported in the browser yet),\n",
              "// where there are multiple asynchronous steps and the Python side is going\n",
              "// to poll for completion of each step.\n",
              "// This uses a Promise to block the python side on completion of each step,\n",
              "// then passes the result of the previous step as the input to the next step.\n",
              "function _uploadFilesContinue(outputId) {\n",
              "  const outputElement = document.getElementById(outputId);\n",
              "  const steps = outputElement.steps;\n",
              "\n",
              "  const next = steps.next(outputElement.lastPromiseValue);\n",
              "  return Promise.resolve(next.value.promise).then((value) => {\n",
              "    // Cache the last promise value to make it available to the next\n",
              "    // step of the generator.\n",
              "    outputElement.lastPromiseValue = value;\n",
              "    return next.value.response;\n",
              "  });\n",
              "}\n",
              "\n",
              "/**\n",
              " * Generator function which is called between each async step of the upload\n",
              " * process.\n",
              " * @param {string} inputId Element ID of the input file picker element.\n",
              " * @param {string} outputId Element ID of the output display.\n",
              " * @return {!Iterable<!Object>} Iterable of next steps.\n",
              " */\n",
              "function* uploadFilesStep(inputId, outputId) {\n",
              "  const inputElement = document.getElementById(inputId);\n",
              "  inputElement.disabled = false;\n",
              "\n",
              "  const outputElement = document.getElementById(outputId);\n",
              "  outputElement.innerHTML = '';\n",
              "\n",
              "  const pickedPromise = new Promise((resolve) => {\n",
              "    inputElement.addEventListener('change', (e) => {\n",
              "      resolve(e.target.files);\n",
              "    });\n",
              "  });\n",
              "\n",
              "  const cancel = document.createElement('button');\n",
              "  inputElement.parentElement.appendChild(cancel);\n",
              "  cancel.textContent = 'Cancel upload';\n",
              "  const cancelPromise = new Promise((resolve) => {\n",
              "    cancel.onclick = () => {\n",
              "      resolve(null);\n",
              "    };\n",
              "  });\n",
              "\n",
              "  // Wait for the user to pick the files.\n",
              "  const files = yield {\n",
              "    promise: Promise.race([pickedPromise, cancelPromise]),\n",
              "    response: {\n",
              "      action: 'starting',\n",
              "    }\n",
              "  };\n",
              "\n",
              "  cancel.remove();\n",
              "\n",
              "  // Disable the input element since further picks are not allowed.\n",
              "  inputElement.disabled = true;\n",
              "\n",
              "  if (!files) {\n",
              "    return {\n",
              "      response: {\n",
              "        action: 'complete',\n",
              "      }\n",
              "    };\n",
              "  }\n",
              "\n",
              "  for (const file of files) {\n",
              "    const li = document.createElement('li');\n",
              "    li.append(span(file.name, {fontWeight: 'bold'}));\n",
              "    li.append(span(\n",
              "        `(${file.type || 'n/a'}) - ${file.size} bytes, ` +\n",
              "        `last modified: ${\n",
              "            file.lastModifiedDate ? file.lastModifiedDate.toLocaleDateString() :\n",
              "                                    'n/a'} - `));\n",
              "    const percent = span('0% done');\n",
              "    li.appendChild(percent);\n",
              "\n",
              "    outputElement.appendChild(li);\n",
              "\n",
              "    const fileDataPromise = new Promise((resolve) => {\n",
              "      const reader = new FileReader();\n",
              "      reader.onload = (e) => {\n",
              "        resolve(e.target.result);\n",
              "      };\n",
              "      reader.readAsArrayBuffer(file);\n",
              "    });\n",
              "    // Wait for the data to be ready.\n",
              "    let fileData = yield {\n",
              "      promise: fileDataPromise,\n",
              "      response: {\n",
              "        action: 'continue',\n",
              "      }\n",
              "    };\n",
              "\n",
              "    // Use a chunked sending to avoid message size limits. See b/62115660.\n",
              "    let position = 0;\n",
              "    do {\n",
              "      const length = Math.min(fileData.byteLength - position, MAX_PAYLOAD_SIZE);\n",
              "      const chunk = new Uint8Array(fileData, position, length);\n",
              "      position += length;\n",
              "\n",
              "      const base64 = btoa(String.fromCharCode.apply(null, chunk));\n",
              "      yield {\n",
              "        response: {\n",
              "          action: 'append',\n",
              "          file: file.name,\n",
              "          data: base64,\n",
              "        },\n",
              "      };\n",
              "\n",
              "      let percentDone = fileData.byteLength === 0 ?\n",
              "          100 :\n",
              "          Math.round((position / fileData.byteLength) * 100);\n",
              "      percent.textContent = `${percentDone}% done`;\n",
              "\n",
              "    } while (position < fileData.byteLength);\n",
              "  }\n",
              "\n",
              "  // All done.\n",
              "  yield {\n",
              "    response: {\n",
              "      action: 'complete',\n",
              "    }\n",
              "  };\n",
              "}\n",
              "\n",
              "scope.google = scope.google || {};\n",
              "scope.google.colab = scope.google.colab || {};\n",
              "scope.google.colab._files = {\n",
              "  _uploadFiles,\n",
              "  _uploadFilesContinue,\n",
              "};\n",
              "})(self);\n",
              "</script> "
            ]
          },
          "metadata": {}
        },
        {
          "output_type": "stream",
          "name": "stdout",
          "text": [
            "Saving pg1513.txt to pg1513 (2).txt\n"
          ]
        }
      ]
    },
    {
      "cell_type": "code",
      "source": [
        "file = open(\"pg1513.txt\",\"r\",encoding=\"utf8\")\n",
        "#store file in list\n",
        "lines=[]\n",
        "for i in file:\n",
        "  lines.append(i)\n",
        "#convert list tp string\n",
        "data=\"\"\n",
        "for i in lines:\n",
        "  data=' ' .join(lines) \n",
        "\n",
        "data=data.replace('\\n','').replace('\\r','').replace('\\ufeff','').replace('\"','').replace('\"','')\n",
        "#remove space\n",
        "data=data.split()\n",
        "data=' '.join(data)\n",
        "data[:500]"
      ],
      "metadata": {
        "colab": {
          "base_uri": "https://localhost:8080/",
          "height": 88
        },
        "id": "LbBiNrT3xW-Y",
        "outputId": "bba1a9bf-6404-4863-b1df-dbe1d00ddf6a"
      },
      "execution_count": 43,
      "outputs": [
        {
          "output_type": "execute_result",
          "data": {
            "text/plain": [
              "'The Project Gutenberg eBook of Romeo and Juliet, by William Shakespeare This eBook is for the use of anyone anywhere in the United States and most other parts of the world at no cost and with almost no restrictions whatsoever. You may copy it, give it away or re-use it under the terms of the Project Gutenberg License included with this eBook or online at www.gutenberg.org. If you are not located in the United States, you will have to check the laws of the country where you are located before usi'"
            ],
            "application/vnd.google.colaboratory.intrinsic+json": {
              "type": "string"
            }
          },
          "metadata": {},
          "execution_count": 43
        }
      ]
    },
    {
      "cell_type": "code",
      "source": [
        "len(data)"
      ],
      "metadata": {
        "colab": {
          "base_uri": "https://localhost:8080/"
        },
        "id": "NY1CY4H7ywo1",
        "outputId": "44380491-637e-4a5c-d23d-9b3933312088"
      },
      "execution_count": 44,
      "outputs": [
        {
          "output_type": "execute_result",
          "data": {
            "text/plain": [
              "160199"
            ]
          },
          "metadata": {},
          "execution_count": 44
        }
      ]
    },
    {
      "cell_type": "code",
      "source": [
        "tokenizer=Tokenizer()\n",
        "tokenizer.fit_on_texts([data])\n",
        "\n",
        "pickle.dump(tokenizer,open('token.pkl','wb'))\n",
        "\n",
        "sequence_data=tokenizer.texts_to_sequences([data])[0]\n",
        "sequence_data[:15]"
      ],
      "metadata": {
        "colab": {
          "base_uri": "https://localhost:8080/"
        },
        "id": "ddSeSUGlyzH8",
        "outputId": "d793d326-6c0b-4887-eedf-add350fa22b9"
      },
      "execution_count": 45,
      "outputs": [
        {
          "output_type": "execute_result",
          "data": {
            "text/plain": [
              "[1, 53, 49, 306, 6, 12, 2, 22, 32, 967, 783, 16, 306, 8, 18]"
            ]
          },
          "metadata": {},
          "execution_count": 45
        }
      ]
    },
    {
      "cell_type": "code",
      "source": [
        "len(sequence_data)"
      ],
      "metadata": {
        "colab": {
          "base_uri": "https://localhost:8080/"
        },
        "id": "xZb-hLXtzlDU",
        "outputId": "9e7800ad-6fed-4f68-f091-d229fbe82aa1"
      },
      "execution_count": 46,
      "outputs": [
        {
          "output_type": "execute_result",
          "data": {
            "text/plain": [
              "29352"
            ]
          },
          "metadata": {},
          "execution_count": 46
        }
      ]
    },
    {
      "cell_type": "code",
      "source": [
        "vocab_size=len(tokenizer.word_index)+1\n",
        "print(vocab_size)"
      ],
      "metadata": {
        "colab": {
          "base_uri": "https://localhost:8080/"
        },
        "id": "JXa8ZAiczq4U",
        "outputId": "c01dfd41-6c33-4d1d-b0a5-bd36d4ead0e5"
      },
      "execution_count": 47,
      "outputs": [
        {
          "output_type": "stream",
          "name": "stdout",
          "text": [
            "4282\n"
          ]
        }
      ]
    },
    {
      "cell_type": "code",
      "source": [
        "sequences=[]\n",
        "for i in range(3,len(sequence_data)):\n",
        "  words=sequence_data[i-3:i+1]\n",
        "  sequences.append(words)\n",
        "\n",
        "\n",
        "print(\"The length of sequences are:\",len(sequences))\n",
        "sequences=np.array(sequences)\n",
        "sequences[:10]\n"
      ],
      "metadata": {
        "colab": {
          "base_uri": "https://localhost:8080/"
        },
        "id": "0dTZz7rrz4Vj",
        "outputId": "c1958427-abad-4623-98c3-c410acf7d334"
      },
      "execution_count": 48,
      "outputs": [
        {
          "output_type": "stream",
          "name": "stdout",
          "text": [
            "The length of sequences are: 29349\n"
          ]
        },
        {
          "output_type": "execute_result",
          "data": {
            "text/plain": [
              "array([[  1,  53,  49, 306],\n",
              "       [ 53,  49, 306,   6],\n",
              "       [ 49, 306,   6,  12],\n",
              "       [306,   6,  12,   2],\n",
              "       [  6,  12,   2,  22],\n",
              "       [ 12,   2,  22,  32],\n",
              "       [  2,  22,  32, 967],\n",
              "       [ 22,  32, 967, 783],\n",
              "       [ 32, 967, 783,  16],\n",
              "       [967, 783,  16, 306]])"
            ]
          },
          "metadata": {},
          "execution_count": 48
        }
      ]
    },
    {
      "cell_type": "code",
      "source": [
        "X=[]\n",
        "y=[]\n",
        "for i in sequences:\n",
        "   X.append(i[0:3])\n",
        "   y.append(i[3])\n",
        "\n",
        "X=np.array(X)  \n",
        "y=np.array(y) "
      ],
      "metadata": {
        "id": "ZjmqCsoF0l-g"
      },
      "execution_count": 49,
      "outputs": []
    },
    {
      "cell_type": "code",
      "source": [
        "print(\"Date:\",X[:10])\n",
        "print(\"Response\",y[:10])"
      ],
      "metadata": {
        "colab": {
          "base_uri": "https://localhost:8080/"
        },
        "id": "DDpYWpZH1Nq7",
        "outputId": "ffdbc567-5d1a-42d5-8c5e-2ddd64010079"
      },
      "execution_count": 50,
      "outputs": [
        {
          "output_type": "stream",
          "name": "stdout",
          "text": [
            "Date: [[  1  53  49]\n",
            " [ 53  49 306]\n",
            " [ 49 306   6]\n",
            " [306   6  12]\n",
            " [  6  12   2]\n",
            " [ 12   2  22]\n",
            " [  2  22  32]\n",
            " [ 22  32 967]\n",
            " [ 32 967 783]\n",
            " [967 783  16]]\n",
            "Response [306   6  12   2  22  32 967 783  16 306]\n"
          ]
        }
      ]
    },
    {
      "cell_type": "code",
      "source": [
        "y=to_categorical(y,num_classes=vocab_size)\n",
        "y[:5]"
      ],
      "metadata": {
        "colab": {
          "base_uri": "https://localhost:8080/"
        },
        "id": "PwMbRXzf1c3j",
        "outputId": "358a1668-d77b-44c9-f7b0-2e40fb8d7e2d"
      },
      "execution_count": 51,
      "outputs": [
        {
          "output_type": "execute_result",
          "data": {
            "text/plain": [
              "array([[0., 0., 0., ..., 0., 0., 0.],\n",
              "       [0., 0., 0., ..., 0., 0., 0.],\n",
              "       [0., 0., 0., ..., 0., 0., 0.],\n",
              "       [0., 0., 1., ..., 0., 0., 0.],\n",
              "       [0., 0., 0., ..., 0., 0., 0.]], dtype=float32)"
            ]
          },
          "metadata": {},
          "execution_count": 51
        }
      ]
    },
    {
      "cell_type": "code",
      "source": [
        "# create the model\n",
        "\n",
        "model = Sequential()\n",
        "model.add(Embedding(vocab_size,10,input_length=3))\n",
        "model.add(LSTM(1000,return_sequences=True))\n",
        "model.add(LSTM(1000))\n",
        "model.add(Dense(1000,activation=\"relu\"))\n",
        "model.add(Dense(vocab_size,activation=\"softmax\"))"
      ],
      "metadata": {
        "id": "2WDxjSWf1x5U"
      },
      "execution_count": 52,
      "outputs": []
    },
    {
      "cell_type": "code",
      "source": [
        "model.summary()"
      ],
      "metadata": {
        "colab": {
          "base_uri": "https://localhost:8080/"
        },
        "id": "LL7uFEuM2x0k",
        "outputId": "50ef1a12-9843-4791-d3d3-d3c319421cb2"
      },
      "execution_count": 53,
      "outputs": [
        {
          "output_type": "stream",
          "name": "stdout",
          "text": [
            "Model: \"sequential_3\"\n",
            "_________________________________________________________________\n",
            " Layer (type)                Output Shape              Param #   \n",
            "=================================================================\n",
            " embedding_2 (Embedding)     (None, 3, 10)             42820     \n",
            "                                                                 \n",
            " lstm_4 (LSTM)               (None, 3, 1000)           4044000   \n",
            "                                                                 \n",
            " lstm_5 (LSTM)               (None, 1000)              8004000   \n",
            "                                                                 \n",
            " dense_4 (Dense)             (None, 1000)              1001000   \n",
            "                                                                 \n",
            " dense_5 (Dense)             (None, 4282)              4286282   \n",
            "                                                                 \n",
            "=================================================================\n",
            "Total params: 17,378,102\n",
            "Trainable params: 17,378,102\n",
            "Non-trainable params: 0\n",
            "_________________________________________________________________\n"
          ]
        }
      ]
    },
    {
      "cell_type": "code",
      "source": [
        "#plot the model\n",
        "\n",
        "from tensorflow import keras\n",
        "from keras.utils.vis_utils import plot_model\n",
        "keras.utils.plot_model(model,to_file='plot.png',show_layer_names=True)"
      ],
      "metadata": {
        "colab": {
          "base_uri": "https://localhost:8080/",
          "height": 564
        },
        "id": "mwdwEHtg2pcy",
        "outputId": "65249b6d-368d-4726-d6a7-719bd3bebb58"
      },
      "execution_count": 54,
      "outputs": [
        {
          "output_type": "execute_result",
          "data": {
            "image/png": "[encoded data removed]",
            "text/plain": [
              "<IPython.core.display.Image object>"
            ]
          },
          "metadata": {},
          "execution_count": 54
        }
      ]
    },
    {
      "cell_type": "code",
      "source": [
        "#built our model\n",
        "\n",
        "from tensorflow.keras.callbacks import ModelCheckpoint\n",
        "checkpoint=ModelCheckpoint(\"next_words.h5\",monitor='loss',verbose=1,save_best_only=True)\n",
        "model.compile(loss=\"categorical_crossentropy\",optimizer=Adam(learning_rate=0.001))\n",
        "model.fit(X,y, epochs=20,batch_size=64,callbacks=[checkpoint])"
      ],
      "metadata": {
        "colab": {
          "base_uri": "https://localhost:8080/"
        },
        "id": "jORVbtec2-u5",
        "outputId": "765f229b-a945-4541-a294-a18bdf3dd407"
      },
      "execution_count": 57,
      "outputs": [
        {
          "output_type": "stream",
          "name": "stdout",
          "text": [
            "Epoch 1/20\n",
            "459/459 [==============================] - ETA: 0s - loss: 1.7341\n",
            "Epoch 1: loss improved from inf to 1.73408, saving model to next_words.h5\n",
            "459/459 [==============================] - 15s 22ms/step - loss: 1.7341\n",
            "Epoch 2/20\n",
            "459/459 [==============================] - ETA: 0s - loss: 1.4221\n",
            "Epoch 2: loss improved from 1.73408 to 1.42212, saving model to next_words.h5\n",
            "459/459 [==============================] - 7s 15ms/step - loss: 1.4221\n",
            "Epoch 3/20\n",
            "459/459 [==============================] - ETA: 0s - loss: 1.2600\n",
            "Epoch 3: loss improved from 1.42212 to 1.26001, saving model to next_words.h5\n",
            "459/459 [==============================] - 7s 16ms/step - loss: 1.2600\n",
            "Epoch 4/20\n",
            "459/459 [==============================] - ETA: 0s - loss: 1.1212\n",
            "Epoch 4: loss improved from 1.26001 to 1.12124, saving model to next_words.h5\n",
            "459/459 [==============================] - 7s 15ms/step - loss: 1.1212\n",
            "Epoch 5/20\n",
            "459/459 [==============================] - ETA: 0s - loss: 0.9768\n",
            "Epoch 5: loss improved from 1.12124 to 0.97684, saving model to next_words.h5\n",
            "459/459 [==============================] - 7s 16ms/step - loss: 0.9768\n",
            "Epoch 6/20\n",
            "459/459 [==============================] - ETA: 0s - loss: 0.8363\n",
            "Epoch 6: loss improved from 0.97684 to 0.83632, saving model to next_words.h5\n",
            "459/459 [==============================] - 7s 15ms/step - loss: 0.8363\n",
            "Epoch 7/20\n",
            "456/459 [============================>.] - ETA: 0s - loss: 0.7273\n",
            "Epoch 7: loss improved from 0.83632 to 0.72770, saving model to next_words.h5\n",
            "459/459 [==============================] - 7s 15ms/step - loss: 0.7277\n",
            "Epoch 8/20\n",
            "458/459 [============================>.] - ETA: 0s - loss: 0.6303\n",
            "Epoch 8: loss improved from 0.72770 to 0.63039, saving model to next_words.h5\n",
            "459/459 [==============================] - 7s 16ms/step - loss: 0.6304\n",
            "Epoch 9/20\n",
            "459/459 [==============================] - ETA: 0s - loss: 0.5543\n",
            "Epoch 9: loss improved from 0.63039 to 0.55430, saving model to next_words.h5\n",
            "459/459 [==============================] - 7s 16ms/step - loss: 0.5543\n",
            "Epoch 10/20\n",
            "459/459 [==============================] - ETA: 0s - loss: 0.4834\n",
            "Epoch 10: loss improved from 0.55430 to 0.48341, saving model to next_words.h5\n",
            "459/459 [==============================] - 7s 15ms/step - loss: 0.4834\n",
            "Epoch 11/20\n",
            "456/459 [============================>.] - ETA: 0s - loss: 0.4300\n",
            "Epoch 11: loss improved from 0.48341 to 0.43056, saving model to next_words.h5\n",
            "459/459 [==============================] - 7s 14ms/step - loss: 0.4306\n",
            "Epoch 12/20\n",
            "456/459 [============================>.] - ETA: 0s - loss: 0.3984\n",
            "Epoch 12: loss improved from 0.43056 to 0.39862, saving model to next_words.h5\n",
            "459/459 [==============================] - 7s 15ms/step - loss: 0.3986\n",
            "Epoch 13/20\n",
            "458/459 [============================>.] - ETA: 0s - loss: 0.3721\n",
            "Epoch 13: loss improved from 0.39862 to 0.37213, saving model to next_words.h5\n",
            "459/459 [==============================] - 7s 15ms/step - loss: 0.3721\n",
            "Epoch 14/20\n",
            "459/459 [==============================] - ETA: 0s - loss: 0.3460\n",
            "Epoch 14: loss improved from 0.37213 to 0.34601, saving model to next_words.h5\n",
            "459/459 [==============================] - 7s 16ms/step - loss: 0.3460\n",
            "Epoch 15/20\n",
            "458/459 [============================>.] - ETA: 0s - loss: 0.3243\n",
            "Epoch 15: loss improved from 0.34601 to 0.32446, saving model to next_words.h5\n",
            "459/459 [==============================] - 7s 15ms/step - loss: 0.3245\n",
            "Epoch 16/20\n",
            "456/459 [============================>.] - ETA: 0s - loss: 0.3092\n",
            "Epoch 16: loss improved from 0.32446 to 0.31052, saving model to next_words.h5\n",
            "459/459 [==============================] - 7s 15ms/step - loss: 0.3105\n",
            "Epoch 17/20\n",
            "456/459 [============================>.] - ETA: 0s - loss: 0.2903\n",
            "Epoch 17: loss improved from 0.31052 to 0.29063, saving model to next_words.h5\n",
            "459/459 [==============================] - 7s 15ms/step - loss: 0.2906\n",
            "Epoch 18/20\n",
            "459/459 [==============================] - ETA: 0s - loss: 0.3004\n",
            "Epoch 18: loss did not improve from 0.29063\n",
            "459/459 [==============================] - 6s 14ms/step - loss: 0.3004\n",
            "Epoch 19/20\n",
            "458/459 [============================>.] - ETA: 0s - loss: 0.2912\n",
            "Epoch 19: loss did not improve from 0.29063\n",
            "459/459 [==============================] - 6s 14ms/step - loss: 0.2916\n",
            "Epoch 20/20\n",
            "457/459 [============================>.] - ETA: 0s - loss: 0.2673\n",
            "Epoch 20: loss improved from 0.29063 to 0.26717, saving model to next_words.h5\n",
            "459/459 [==============================] - 7s 15ms/step - loss: 0.2672\n"
          ]
        },
        {
          "output_type": "execute_result",
          "data": {
            "text/plain": [
              "<keras.callbacks.History at 0x7f0f4dc55910>"
            ]
          },
          "metadata": {},
          "execution_count": 57
        }
      ]
    },
    {
      "cell_type": "code",
      "source": [
        "#prediction\n",
        "from tensorflow.keras.models import load_model\n",
        "import numpy as np\n",
        "import pickle\n",
        "\n",
        "model=load_model('next_words.h5')\n",
        "tokenizer=pickle.load(open('token.pkl','rb'))\n",
        "\n",
        "def Predict_Next_Words(model,tokenizer,text):\n",
        "  sequence=tokenizer.texts_to_sequences([text])\n",
        "  sequence=np.array(sequence)\n",
        "  preds=np.argmax(model.predict(sequence))\n",
        "  predicted_word=\"\"\n",
        "  for key,value in tokenizer.word_index.items():\n",
        "    if value == preds:\n",
        "      predicted_word =key\n",
        "      break\n",
        "\n",
        "  print(predicted_word)  \n",
        "  return(predicted_word)  "
      ],
      "metadata": {
        "id": "jSlZyFAf4ccd"
      },
      "execution_count": 58,
      "outputs": []
    },
    {
      "cell_type": "code",
      "source": [
        "while (True):\n",
        "  text=input(\"Enter your lines:\")\n",
        "\n",
        "  if text == \"0\":\n",
        "    print(\"Execution completed..\")\n",
        "    break\n",
        "\n",
        "  else:\n",
        "    try:\n",
        "      text=text.split(\" \")  \n",
        "      text=text[-3:]\n",
        "      print(text)\n",
        "      Predict_Next_Words(model,tokenizer,text)\n",
        "\n",
        "    except Exception as e:\n",
        "      print(\"Error occured:\",e)  \n",
        "      continue"
      ],
      "metadata": {
        "colab": {
          "base_uri": "https://localhost:8080/"
        },
        "id": "zJ6cXG_26M2Y",
        "outputId": "530ab379-7ea5-4a13-b6ef-f41ce03c254d"
      },
      "execution_count": 59,
      "outputs": [
        {
          "output_type": "stream",
          "name": "stdout",
          "text": [
            "Enter your lines:Where civil blood\n",
            "['Where', 'civil', 'blood']\n",
            "1/1 [==============================] - 1s 625ms/step\n",
            "makes\n",
            "Enter your lines:A pair of star\n",
            "['pair', 'of', 'star']\n",
            "1/1 [==============================] - 0s 20ms/step\n",
            "cross’d\n",
            "Enter your lines:Doth with their\n",
            "['Doth', 'with', 'their']\n",
            "1/1 [==============================] - 0s 20ms/step\n",
            "death\n",
            "Enter your lines:0\n",
            "Execution completed..\n"
          ]
        }
      ]
    },
    {
      "cell_type": "code",
      "source": [],
      "metadata": {
        "id": "JjAbBU7hb_o7"
      },
      "execution_count": null,
      "outputs": []
    }
  ]
}